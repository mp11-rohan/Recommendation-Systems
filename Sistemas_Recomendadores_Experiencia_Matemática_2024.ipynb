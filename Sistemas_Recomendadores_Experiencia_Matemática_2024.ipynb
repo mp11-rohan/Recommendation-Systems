{
  "nbformat": 4,
  "nbformat_minor": 0,
  "metadata": {
    "colab": {
      "provenance": [],
      "include_colab_link": true
    },
    "kernelspec": {
      "name": "python3",
      "display_name": "Python 3"
    },
    "language_info": {
      "name": "python"
    }
  },
  "cells": [
    {
      "cell_type": "markdown",
      "metadata": {
        "id": "view-in-github",
        "colab_type": "text"
      },
      "source": [
        "<a href=\"https://colab.research.google.com/github/mp11-rohan/Recommendation-Systems/blob/main/Sistemas_Recomendadores_Experiencia_Matem%C3%A1tica_2024.ipynb\" target=\"_parent\"><img src=\"https://colab.research.google.com/assets/colab-badge.svg\" alt=\"Open In Colab\"/></a>"
      ]
    },
    {
      "cell_type": "code",
      "execution_count": 1,
      "metadata": {
        "id": "kxv9Ht8NIK7t",
        "outputId": "cdbf06a6-f6d9-4aaa-d8ce-99e43e428a79",
        "colab": {
          "base_uri": "https://localhost:8080/"
        }
      },
      "outputs": [
        {
          "output_type": "stream",
          "name": "stdout",
          "text": [
            "Collecting scikit-surprise\n",
            "  Downloading scikit_surprise-1.1.4.tar.gz (154 kB)\n",
            "\u001b[2K     \u001b[90m━━━━━━━━━━━━━━━━━━━━━━━━━━━━━━━━━━━━━━━━\u001b[0m \u001b[32m154.4/154.4 kB\u001b[0m \u001b[31m2.8 MB/s\u001b[0m eta \u001b[36m0:00:00\u001b[0m\n",
            "\u001b[?25h  Installing build dependencies ... \u001b[?25l\u001b[?25hdone\n",
            "  Getting requirements to build wheel ... \u001b[?25l\u001b[?25hdone\n",
            "  Preparing metadata (pyproject.toml) ... \u001b[?25l\u001b[?25hdone\n",
            "Requirement already satisfied: joblib>=1.2.0 in /usr/local/lib/python3.10/dist-packages (from scikit-surprise) (1.4.2)\n",
            "Requirement already satisfied: numpy>=1.19.5 in /usr/local/lib/python3.10/dist-packages (from scikit-surprise) (1.25.2)\n",
            "Requirement already satisfied: scipy>=1.6.0 in /usr/local/lib/python3.10/dist-packages (from scikit-surprise) (1.11.4)\n",
            "Building wheels for collected packages: scikit-surprise\n",
            "  Building wheel for scikit-surprise (pyproject.toml) ... \u001b[?25l\u001b[?25hdone\n",
            "  Created wheel for scikit-surprise: filename=scikit_surprise-1.1.4-cp310-cp310-linux_x86_64.whl size=2357230 sha256=84a1e18dadf91e442139d508540a0c1885c50503b1031fc585767954fa014fc0\n",
            "  Stored in directory: /root/.cache/pip/wheels/4b/3f/df/6acbf0a40397d9bf3ff97f582cc22fb9ce66adde75bc71fd54\n",
            "Successfully built scikit-surprise\n",
            "Installing collected packages: scikit-surprise\n",
            "Successfully installed scikit-surprise-1.1.4\n"
          ]
        }
      ],
      "source": [
        "pip install scikit-surprise\n"
      ]
    },
    {
      "cell_type": "code",
      "source": [
        "import pandas as pd\n",
        "from surprise import Reader, Dataset, SVD\n",
        "from surprise.model_selection import train_test_split\n",
        "from surprise.accuracy import rmse\n",
        "\n",
        "# Load the MovieLens dataset\n",
        "!wget -nc http://files.grouplens.org/datasets/movielens/ml-latest-small.zip\n",
        "!unzip -n ml-latest-small.zip"
      ],
      "metadata": {
        "id": "16rdFr0HITdp",
        "outputId": "f3fd66ba-82cd-446d-dd84-af04111516b1",
        "colab": {
          "base_uri": "https://localhost:8080/"
        }
      },
      "execution_count": 2,
      "outputs": [
        {
          "output_type": "stream",
          "name": "stdout",
          "text": [
            "--2024-07-02 18:08:18--  http://files.grouplens.org/datasets/movielens/ml-latest-small.zip\n",
            "Resolving files.grouplens.org (files.grouplens.org)... 128.101.65.152\n",
            "Connecting to files.grouplens.org (files.grouplens.org)|128.101.65.152|:80... connected.\n",
            "HTTP request sent, awaiting response... 200 OK\n",
            "Length: 978202 (955K) [application/zip]\n",
            "Saving to: ‘ml-latest-small.zip’\n",
            "\n",
            "ml-latest-small.zip 100%[===================>] 955.28K   942KB/s    in 1.0s    \n",
            "\n",
            "2024-07-02 18:08:20 (942 KB/s) - ‘ml-latest-small.zip’ saved [978202/978202]\n",
            "\n",
            "Archive:  ml-latest-small.zip\n",
            "   creating: ml-latest-small/\n",
            "  inflating: ml-latest-small/links.csv  \n",
            "  inflating: ml-latest-small/tags.csv  \n",
            "  inflating: ml-latest-small/ratings.csv  \n",
            "  inflating: ml-latest-small/README.txt  \n",
            "  inflating: ml-latest-small/movies.csv  \n"
          ]
        }
      ]
    },
    {
      "cell_type": "code",
      "source": [
        "# Read the dataset into a pandas dataframe\n",
        "ratings = pd.read_csv('/content/ratings.csv')\n",
        "movies = pd.read_csv('/content/clothes.csv')\n",
        "\n",
        "# Prepare the data for Surprise\n",
        "reader = Reader(rating_scale=(0.5, 5.0))\n",
        "data = Dataset.load_from_df(ratings[['userId', 'clothesId', 'ratings']], reader)"
      ],
      "metadata": {
        "id": "B1Be_odtKkoG"
      },
      "execution_count": 8,
      "outputs": []
    },
    {
      "cell_type": "code",
      "source": [
        "# Split the data into training and test sets\n",
        "trainset, testset = train_test_split(data, test_size=0.2)\n",
        "\n",
        "# Use the SVD algorithm\n",
        "algo = SVD()\n",
        "\n",
        "# Train the algorithm on the trainset, and predict ratings for the testset\n",
        "algo.fit(trainset)\n",
        "predictions = algo.test(testset)\n",
        "\n",
        "# Calculate RMSE\n",
        "print(\"RMSE: \", rmse(predictions))"
      ],
      "metadata": {
        "id": "v9Hdsmc2Kzos",
        "collapsed": true,
        "outputId": "226eebaf-b6e7-4b35-a16c-593ba1b25730",
        "colab": {
          "base_uri": "https://localhost:8080/"
        }
      },
      "execution_count": 9,
      "outputs": [
        {
          "output_type": "stream",
          "name": "stdout",
          "text": [
            "RMSE: 1.3148\n",
            "RMSE:  1.3148036205980727\n"
          ]
        }
      ]
    },
    {
      "cell_type": "code",
      "source": [
        "# Function to get a list of movie ids that the user has not rated\n",
        "def get_unrated_movies(user_id, ratings_df, movies_df):\n",
        "    rated_movies = ratings_df[ratings_df['userId'] == user_id]['clothesId']\n",
        "    all_movies = set(movies_df['clothesId'])\n",
        "    rated_movies_set = set(rated_movies)\n",
        "    unrated_movies = list(all_movies - rated_movies_set)\n",
        "    return unrated_movies"
      ],
      "metadata": {
        "id": "qgoneh87K9rN"
      },
      "execution_count": 10,
      "outputs": []
    },
    {
      "cell_type": "code",
      "source": [
        "# Function to recommend movies for a user\n",
        "def recommend_movies(user_id, ratings_df, movies_df, algo, top_n=10):\n",
        "    unrated_movies = get_unrated_movies(user_id, ratings_df, movies_df)\n",
        "    predictions = [algo.predict(user_id, movie_id) for movie_id in unrated_movies]\n",
        "    top_predictions = sorted(predictions, key=lambda x: x.est, reverse=True)[:top_n]\n",
        "    recommended_movie_ids = [pred.iid for pred in top_predictions]\n",
        "    recommended_movies = movies_df[movies_df['clothesId'].isin(recommended_movie_ids)]\n",
        "    return recommended_movies"
      ],
      "metadata": {
        "id": "8wZ8xTH6LG7h"
      },
      "execution_count": 12,
      "outputs": []
    },
    {
      "cell_type": "code",
      "source": [
        "# Get recommendations for a specific user\n",
        "user_id = 1\n",
        "recommended_movies = recommend_movies(user_id, ratings, movies, algo, top_n=10)\n",
        "print(f\"Top 10 clothes recommendations for user {user_id}:\")\n",
        "print(recommended_movies[['clothesName', 'genres']])"
      ],
      "metadata": {
        "id": "GA6vGpWCLKgL",
        "colab": {
          "base_uri": "https://localhost:8080/"
        },
        "outputId": "36ad7c0c-193f-49a8-f536-f680e733dced"
      },
      "execution_count": 15,
      "outputs": [
        {
          "output_type": "stream",
          "name": "stdout",
          "text": [
            "Top 10 clothes recommendations for user 1:\n",
            "           clothesName  genres\n",
            "9             Leggings   Women\n",
            "30   Long sleeve shirt     Men\n",
            "38       Bodycon dress   Women\n",
            "66              Hoodie  Unisex\n",
            "72      Peasant blouse   Women\n",
            "107            Sweater  Unisex\n",
            "111           Cardigan   Women\n",
            "166             Hoodie  Unisex\n",
            "173      Bomber jacket  Unisex\n",
            "185     Leather jacket  Unisex\n"
          ]
        }
      ]
    }
  ]
}